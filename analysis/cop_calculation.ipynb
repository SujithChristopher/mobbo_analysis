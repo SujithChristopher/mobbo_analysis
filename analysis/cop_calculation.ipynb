{
 "cells": [
  {
   "cell_type": "code",
   "execution_count": 2,
   "metadata": {},
   "outputs": [],
   "source": [
    "import pandas as pd\n",
    "import numpy as np\n",
    "import matplotlib.pyplot as plt\n",
    "import seaborn as sns\n",
    "import os\n",
    "import polars as pl\n",
    "import toml"
   ]
  },
  {
   "cell_type": "code",
   "execution_count": 7,
   "metadata": {},
   "outputs": [],
   "source": [
    "_base_pth = toml.load(\"data_path.toml\")['files']['pth']\n",
    "_folder_name = 'normal_t1'\n",
    "\n",
    "_data_pth = os.path.join(_base_pth, _folder_name)\n",
    "\n",
    "_mobbo_base_names = [\n",
    "    'mobbo1.csv',\n",
    "    'mobbo2.csv',\n",
    "    'mobbo3.csv',\n",
    "    'mobbo4.csv',\n",
    "    'mobbo5.csv',\n",
    "    'mobbo6.csv',\n",
    "                     ]"
   ]
  },
  {
   "cell_type": "code",
   "execution_count": 11,
   "metadata": {},
   "outputs": [],
   "source": [
    "dfs = {'m1':pl.read_csv(os.path.join(_data_pth, _mobbo_base_names[0])),\n",
    "       'm2':pl.read_csv(os.path.join(_data_pth, _mobbo_base_names[1])),\n",
    "       'm3':pl.read_csv(os.path.join(_data_pth, _mobbo_base_names[2])),\n",
    "       'm4':pl.read_csv(os.path.join(_data_pth, _mobbo_base_names[3])),\n",
    "       'm5':pl.read_csv(os.path.join(_data_pth, _mobbo_base_names[4])),\n",
    "       'm6':pl.read_csv(os.path.join(_data_pth, _mobbo_base_names[5]))}"
   ]
  },
  {
   "cell_type": "code",
   "execution_count": null,
   "metadata": {},
   "outputs": [],
   "source": []
  }
 ],
 "metadata": {
  "kernelspec": {
   "display_name": "py115",
   "language": "python",
   "name": "python3"
  },
  "language_info": {
   "codemirror_mode": {
    "name": "ipython",
    "version": 3
   },
   "file_extension": ".py",
   "mimetype": "text/x-python",
   "name": "python",
   "nbconvert_exporter": "python",
   "pygments_lexer": "ipython3",
   "version": "3.11.5"
  }
 },
 "nbformat": 4,
 "nbformat_minor": 2
}
