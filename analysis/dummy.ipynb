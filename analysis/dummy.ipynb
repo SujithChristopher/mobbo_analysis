{
 "cells": [
  {
   "cell_type": "code",
   "execution_count": 2,
   "metadata": {},
   "outputs": [],
   "source": [
    "import pandas as pd\n",
    "import numpy as np\n",
    "import matplotlib.pyplot as plt\n",
    "import seaborn as sns\n",
    "import os\n",
    "import polars as pl\n",
    "import toml\n",
    "from support import preprocess"
   ]
  },
  {
   "cell_type": "code",
   "execution_count": 3,
   "metadata": {},
   "outputs": [],
   "source": [
    "_base_pth = toml.load(\"data_path.toml\")['files']['pth']\n",
    "_folder_name = 'normal_ss_t1'\n",
    "\n",
    "_data_pth = os.path.join(_base_pth, _folder_name)\n",
    "\n",
    "_mobbo_base_names = [\n",
    "    'mobbo1.csv',\n",
    "    'mobbo2.csv',\n",
    "    'mobbo3.csv',\n",
    "    'mobbo4.csv',\n",
    "    'mobbo5.csv',\n",
    "    'mobbo6.csv',\n",
    "                     ]"
   ]
  },
  {
   "cell_type": "code",
   "execution_count": 4,
   "metadata": {},
   "outputs": [],
   "source": [
    "dfs = {'m1':pl.read_csv(os.path.join(_data_pth, _mobbo_base_names[0])),\n",
    "       'm2':pl.read_csv(os.path.join(_data_pth, _mobbo_base_names[1])),\n",
    "       'm3':pl.read_csv(os.path.join(_data_pth, _mobbo_base_names[2])),\n",
    "       'm4':pl.read_csv(os.path.join(_data_pth, _mobbo_base_names[3])),\n",
    "       'm5':pl.read_csv(os.path.join(_data_pth, _mobbo_base_names[4])),\n",
    "       'm6':pl.read_csv(os.path.join(_data_pth, _mobbo_base_names[5]))}"
   ]
  },
  {
   "cell_type": "markdown",
   "metadata": {},
   "source": [
    "## Changing polarity for two boards m5 and m6"
   ]
  },
  {
   "cell_type": "code",
   "execution_count": 5,
   "metadata": {},
   "outputs": [],
   "source": [
    "dfs['m5'] = dfs['m5'].with_columns([(pl.col('f1')*-1).alias('f1'),\n",
    "                                    (pl.col('f2')*-1).alias('f2'),\n",
    "                                    (pl.col('f3')*-1).alias('f3'),\n",
    "                                    (pl.col('f4')*-1).alias('f4'),])\n",
    "\n",
    "dfs['m6'] = dfs['m6'].with_columns([(pl.col('f1')*-1).alias('f1'),\n",
    "                                    (pl.col('f2')*-1).alias('f2'),\n",
    "                                    (pl.col('f3')*-1).alias('f3'),\n",
    "                                    (pl.col('f4')*-1).alias('f4'),])"
   ]
  },
  {
   "cell_type": "markdown",
   "metadata": {},
   "source": [
    "## Pre processing files"
   ]
  },
  {
   "cell_type": "code",
   "execution_count": 13,
   "metadata": {},
   "outputs": [],
   "source": [
    "# trunkate dfs\n",
    "_temp_df = dfs['m1']\n",
    "_start_inx = None\n",
    "_end_inx = None\n",
    "_trailing_trigger = False\n",
    "for i in range(len(_temp_df['sync'])):\n",
    "    if (_temp_df['sync'][i] == 1) and (not _trailing_trigger):\n",
    "        _start_inx = i\n",
    "        _trailing_trigger = True\n",
    "    \n",
    "    if (_temp_df['sync'][i] == 0) and (_trailing_trigger):\n",
    "        _end_inx = i\n",
    "        break\n",
    "    \n",
    "_temp_df = _temp_df[_start_inx:_end_inx]       \n",
    "        "
   ]
  },
  {
   "cell_type": "code",
   "execution_count": 16,
   "metadata": {},
   "outputs": [
    {
     "data": {
      "text/plain": [
       "['f1', 'f2', 'f3', 'f4']"
      ]
     },
     "execution_count": 16,
     "metadata": {},
     "output_type": "execute_result"
    }
   ],
   "source": [
    "_temp_df.columns[1:-1]"
   ]
  },
  {
   "cell_type": "code",
   "execution_count": 20,
   "metadata": {},
   "outputs": [],
   "source": [
    "from scipy.interpolate import interp1d\n",
    "\n",
    "_reference_df = dfs['m1']\n",
    "\n",
    "_target_dfs = [dfs['m2'], dfs['m3'], dfs['m4'], dfs['m5'], dfs['m6']]\n",
    "columns = _reference_df.columns[1:-1]\n",
    "\n",
    "interp_func = []\n",
    "for _col in columns:\n",
    "    interp_func.append(interp1d(_reference_df['timestamp'], _reference_df[columns], kind='linear', axis=0, fill_value='extrapolate'))"
   ]
  },
  {
   "cell_type": "code",
   "execution_count": 21,
   "metadata": {},
   "outputs": [
    {
     "data": {
      "text/plain": [
       "[<scipy.interpolate._interpolate.interp1d at 0x1d1120c70c0>,\n",
       " <scipy.interpolate._interpolate.interp1d at 0x1d112107a70>,\n",
       " <scipy.interpolate._interpolate.interp1d at 0x1d111d6fd40>,\n",
       " <scipy.interpolate._interpolate.interp1d at 0x1d112107930>]"
      ]
     },
     "execution_count": 21,
     "metadata": {},
     "output_type": "execute_result"
    }
   ],
   "source": [
    "interp_func"
   ]
  },
  {
   "cell_type": "code",
   "execution_count": null,
   "metadata": {},
   "outputs": [],
   "source": []
  }
 ],
 "metadata": {
  "kernelspec": {
   "display_name": "py115",
   "language": "python",
   "name": "python3"
  },
  "language_info": {
   "codemirror_mode": {
    "name": "ipython",
    "version": 3
   },
   "file_extension": ".py",
   "mimetype": "text/x-python",
   "name": "python",
   "nbconvert_exporter": "python",
   "pygments_lexer": "ipython3",
   "version": "3.11.5"
  }
 },
 "nbformat": 4,
 "nbformat_minor": 2
}
